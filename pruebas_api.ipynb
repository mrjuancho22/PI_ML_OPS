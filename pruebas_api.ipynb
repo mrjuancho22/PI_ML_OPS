{
 "cells": [
  {
   "cell_type": "code",
   "execution_count": 19,
   "metadata": {},
   "outputs": [],
   "source": [
    "import pandas as pd\n",
    "import ast\n",
    "import re\n",
    "df_movies = pd.read_parquet('datasets/clean_movies_dataset.parquet')\n",
    "df_credits = pd.read_parquet('datasets/credits.parquet')"
   ]
  },
  {
   "cell_type": "code",
   "execution_count": 20,
   "metadata": {},
   "outputs": [
    {
     "data": {
      "text/plain": [
       "0        <class 'str'>\n",
       "1        <class 'str'>\n",
       "2        <class 'str'>\n",
       "3        <class 'str'>\n",
       "4        <class 'str'>\n",
       "             ...      \n",
       "45471    <class 'str'>\n",
       "45472    <class 'str'>\n",
       "45473    <class 'str'>\n",
       "45474    <class 'str'>\n",
       "45475    <class 'str'>\n",
       "Name: cast, Length: 45476, dtype: object"
      ]
     },
     "execution_count": 20,
     "metadata": {},
     "output_type": "execute_result"
    }
   ],
   "source": [
    "df_credits.cast.apply(lambda x : type(x))"
   ]
  },
  {
   "cell_type": "code",
   "execution_count": 21,
   "metadata": {},
   "outputs": [
    {
     "data": {
      "text/plain": [
       "Index(['belongs_to_collection', 'budget', 'genres', 'id', 'original_language',\n",
       "       'overview', 'popularity', 'production_companies',\n",
       "       'production_countries', 'release_date', 'revenue', 'runtime',\n",
       "       'spoken_languages', 'status', 'tagline', 'title', 'vote_average',\n",
       "       'vote_count', 'release_year', 'return'],\n",
       "      dtype='object')"
      ]
     },
     "execution_count": 21,
     "metadata": {},
     "output_type": "execute_result"
    }
   ],
   "source": [
    "df_movies.columns"
   ]
  },
  {
   "attachments": {},
   "cell_type": "markdown",
   "metadata": {},
   "source": [
    "### def cantidad_filmaciones_mes( Mes ): Se ingresa un mes en idioma Español. Debe devolver la cantidad de películas que fueron estrenadas en el mes consultado en la totalidad del dataset.\n",
    "                    Ejemplo de retorno: X cantidad de películas fueron estrenadas en el mes de X"
   ]
  },
  {
   "cell_type": "code",
   "execution_count": 41,
   "metadata": {},
   "outputs": [],
   "source": [
    "def cantidad_filmaciones_mes(mes:str):\n",
    "    '''Se ingresa el mes y la funcion retorna la cantidad de peliculas que se estrenaron ese mes historicamente'''\n",
    "    mes = mes.lower()\n",
    "    df_movies.release_date = pd.to_datetime(df_movies.release_date)\n",
    "    def mes_a_numero (mes):\n",
    "        meses = {\n",
    "            'enero':1,'febrero':2,'marzo':3,'abril':4,\n",
    "            'mayo':5,'junio':6,'julio':7,'agosto':8,\n",
    "            'septiembre':9,'octubre':10,'noviembre':11,'diciembre':12\n",
    "            }\n",
    "        return meses[mes]\n",
    "    cantidad = df_movies.release_date.loc[df_movies.release_date.dt.month == mes_a_numero(mes)].count().item()\n",
    "    return {'mes':mes, 'cantidad':cantidad}"
   ]
  },
  {
   "attachments": {},
   "cell_type": "markdown",
   "metadata": {},
   "source": [
    "- prueba"
   ]
  },
  {
   "cell_type": "code",
   "execution_count": 42,
   "metadata": {},
   "outputs": [
    {
     "data": {
      "text/plain": [
       "{'mes': 'febrero', 'cantidad': 3032}"
      ]
     },
     "execution_count": 42,
     "metadata": {},
     "output_type": "execute_result"
    }
   ],
   "source": [
    "cantidad_filmaciones_mes('febrero')"
   ]
  },
  {
   "attachments": {},
   "cell_type": "markdown",
   "metadata": {},
   "source": [
    "### def cantidad_filmaciones_dia( Dia ): Se ingresa un día en idioma Español. Debe devolver la cantidad de películas que fueron estrenadas en día consultado en la totalidad del dataset.\n",
    "                    Ejemplo de retorno: X cantidad de películas fueron estrenadas en los días X"
   ]
  },
  {
   "cell_type": "code",
   "execution_count": 43,
   "metadata": {},
   "outputs": [],
   "source": [
    "def cantidad_filmaciones_dia(dia:str):\n",
    "    '''Se ingresa el dia y la funcion retorna la cantidad de peliculas que se estrebaron ese dia historicamente'''\n",
    "    dia = dia.lower()\n",
    "    df_movies.release_date = pd.to_datetime(df_movies.release_date, errors= 'coerce')\n",
    "    def dia_numero(dia_numero):\n",
    "        dias = {'lunes' : 0,'martes' : 1, 'miercoles': 2, 'jueves':3, 'viernes':4, 'sabado':5, 'domingo':6}\n",
    "        return dias[dia_numero]\n",
    "    cantidad = df_movies.release_date.loc[df_movies.release_date.dt.weekday == dia_numero(dia)].count()\n",
    "    return {'dia' : dia , 'cantidad' : cantidad.item()}"
   ]
  },
  {
   "attachments": {},
   "cell_type": "markdown",
   "metadata": {},
   "source": [
    "- prueba"
   ]
  },
  {
   "cell_type": "code",
   "execution_count": 44,
   "metadata": {},
   "outputs": [
    {
     "data": {
      "text/plain": [
       "{'dia': 'lunes', 'cantidad': 3503}"
      ]
     },
     "execution_count": 44,
     "metadata": {},
     "output_type": "execute_result"
    }
   ],
   "source": [
    "cantidad_filmaciones_dia('lunes')"
   ]
  },
  {
   "attachments": {},
   "cell_type": "markdown",
   "metadata": {},
   "source": [
    "### def score_titulo( titulo_de_la_filmación ): Se ingresa el título de una filmación esperando como respuesta el título, el año de estreno y el score.\n",
    "                    Ejemplo de retorno: La película X fue estrenada en el año X con un score/popularidad de"
   ]
  },
  {
   "cell_type": "code",
   "execution_count": 47,
   "metadata": {},
   "outputs": [],
   "source": [
    "def score_titulo(titulo_de_la_filmacion: str):\n",
    "    titulo_de_la_filmacion = titulo_de_la_filmacion.lower()\n",
    "    respuesta = df_movies[['title','release_year','popularity']].loc[df_movies.title.apply(lambda x : x.lower()) == titulo_de_la_filmacion]\n",
    "    titulo = str(respuesta['title'].values[0])\n",
    "    anio = int(respuesta['release_year'].values[0])\n",
    "    popularidad = float(respuesta['popularity'].values[0])\n",
    "    return {'titulo':titulo, 'anio':anio, 'popularidad':popularidad}"
   ]
  },
  {
   "attachments": {},
   "cell_type": "markdown",
   "metadata": {},
   "source": [
    "- prueba"
   ]
  },
  {
   "cell_type": "code",
   "execution_count": 48,
   "metadata": {},
   "outputs": [
    {
     "data": {
      "text/plain": [
       "{'titulo': 'Toy Story', 'anio': 1995, 'popularidad': 21.946943}"
      ]
     },
     "execution_count": 48,
     "metadata": {},
     "output_type": "execute_result"
    }
   ],
   "source": [
    "score_titulo('Toy Story')"
   ]
  },
  {
   "attachments": {},
   "cell_type": "markdown",
   "metadata": {},
   "source": [
    "### def votos_titulo( titulo_de_la_filmación ): Se ingresa el título de una filmación esperando como respuesta el título, la cantidad de votos y el valor promedio de las votaciones. La misma variable deberá de contar con al menos 2000 valoraciones, caso contrario, debemos contar con un mensaje avisando que no cumple esta condición y que por ende, no se devuelve ningun valor.\n",
    "                    Ejemplo de retorno: La película X fue estrenada en el año X. La misma cuenta con un total de X valoraciones, con un promedio de X"
   ]
  },
  {
   "cell_type": "code",
   "execution_count": 53,
   "metadata": {},
   "outputs": [],
   "source": [
    "\n",
    "def votos_titulo(titulo:str):\n",
    "    '''Se ingresa el título de una filmación esperando como respuesta el título, la cantidad de votos y el valor promedio de las votaciones. \n",
    "    La misma variable deberá de contar con al menos 2000 valoraciones, \n",
    "    caso contrario, debemos contar con un mensaje avisando que no cumple esta condición y que por ende, no se devuelve ningun valor.'''\n",
    "    respuesta = df_movies[['title','release_year','vote_count','vote_average']].loc[df_movies.title.apply(lambda x : x.lower()) == titulo.lower()]\n",
    "    titulo = str(respuesta['title'].values[0])\n",
    "    anio = int(respuesta['release_year'].values[0])\n",
    "    voto_total = int(respuesta['vote_count'].values[0])\n",
    "    voto_promedio = float(respuesta['vote_average'].values[0])\n",
    "    if respuesta['vote_count'].values[0] <2000:\n",
    "        return 'La variable ingresada no cumple con la condición necesaria de tener más de 2000 valoraciones'\n",
    "    else:\n",
    "        return {'titulo':titulo, 'anio':anio, 'voto_total':voto_total, 'voto_promedio':voto_promedio}"
   ]
  },
  {
   "attachments": {},
   "cell_type": "markdown",
   "metadata": {},
   "source": [
    "- prueba"
   ]
  },
  {
   "cell_type": "code",
   "execution_count": 54,
   "metadata": {},
   "outputs": [
    {
     "data": {
      "text/plain": [
       "{'titulo': 'Toy Story', 'anio': 1995, 'voto_total': 5415, 'voto_promedio': 7.7}"
      ]
     },
     "execution_count": 54,
     "metadata": {},
     "output_type": "execute_result"
    }
   ],
   "source": [
    "votos_titulo('Toy Story')"
   ]
  },
  {
   "attachments": {},
   "cell_type": "markdown",
   "metadata": {},
   "source": [
    "### def get_actor( nombre_actor ): Se ingresa el nombre de un actor que se encuentre dentro de un dataset debiendo devolver el éxito del mismo medido a través del retorno. Además, la cantidad de películas que en las que ha participado y el promedio de retorno. La definición no deberá considerar directores.\n",
    "                    Ejemplo de retorno: El actor X ha participado de X cantidad de filmaciones, el mismo ha conseguido un retorno de X con un promedio de X por filmación"
   ]
  },
  {
   "cell_type": "code",
   "execution_count": 58,
   "metadata": {},
   "outputs": [],
   "source": [
    "def get_actor(nombre_actor:str):\n",
    "    '''Se ingresa el nombre de un actor que se encuentre dentro de un dataset debiendo devolver el éxito del mismo medido a través del retorno. \n",
    "    Además, la cantidad de películas que en las que ha participado y el promedio de retorno'''\n",
    "    resultado = df_credits[df_credits['cast'].apply(lambda x : nombre_actor.lower().rstrip() in x.lower())]\n",
    "    cantidad_filmaciones = resultado.shape[0]\n",
    "    lista_proyectos = resultado.id.tolist()\n",
    "    proyectos = df_movies[df_movies['id'].isin(lista_proyectos)]\n",
    "    retorno_total = sum(proyectos.revenue.tolist())\n",
    "    retorno_promedio = round(retorno_total/cantidad_filmaciones)\n",
    "    return {'actor':nombre_actor, 'cantidad_filmaciones':cantidad_filmaciones, 'retorno_total':retorno_total, 'retorno_promedio':retorno_promedio}"
   ]
  },
  {
   "attachments": {},
   "cell_type": "markdown",
   "metadata": {},
   "source": [
    "- prueba"
   ]
  },
  {
   "cell_type": "code",
   "execution_count": 59,
   "metadata": {},
   "outputs": [
    {
     "data": {
      "text/plain": [
       "{'actor': 'Robin Williams',\n",
       " 'cantidad_filmaciones': 83,\n",
       " 'retorno_total': 6356609847,\n",
       " 'retorno_promedio': 76585661}"
      ]
     },
     "execution_count": 59,
     "metadata": {},
     "output_type": "execute_result"
    }
   ],
   "source": [
    "get_actor('Robin Williams')"
   ]
  },
  {
   "attachments": {},
   "cell_type": "markdown",
   "metadata": {},
   "source": [
    "### def get_director( nombre_director ): Se ingresa el nombre de un director que se encuentre dentro de un dataset debiendo devolver el éxito del mismo medido a través del retorno. Además, deberá devolver el nombre de cada película con la fecha de lanzamiento, retorno individual, costo y ganancia de la misma."
   ]
  },
  {
   "cell_type": "code",
   "execution_count": 60,
   "metadata": {},
   "outputs": [],
   "source": [
    "def get_director(nombre_director:str):\n",
    "    ''' Se ingresa el nombre de un director que se encuentre dentro de un dataset debiendo devolver el éxito del mismo medido a través del retorno. \n",
    "    Además, deberá devolver el nombre de cada película con la fecha de lanzamiento, retorno individual, costo y ganancia de la misma.'''\n",
    "    condicion1 = df_credits['crew'].str.contains(r'\\b{}\\b'.format(nombre_director.title()), regex=True)\n",
    "    condicion2 = df_credits['crew'].str.contains(r'\\b{}\\b'.format('Director'), regex=True)\n",
    "    resultado = df_credits[condicion1 & condicion2]\n",
    "\n",
    "    lista_proyectos = resultado.id.tolist()\n",
    "    proyectos = df_movies[df_movies['id'].isin(lista_proyectos)]\n",
    "\n",
    "    revenue_pelicula = proyectos.revenue.tolist()\n",
    "    retorno_pelicula = proyectos['return'].tolist()\n",
    "    budget_pelicula = proyectos.budget.tolist()\n",
    "    retorno_total_director = sum(revenue_pelicula)\n",
    "    peliculas = proyectos.title.tolist()\n",
    "    anio_peliculas = [fecha.strftime('%Y-%m-%d') for fecha in proyectos.release_date.dt.date]\n",
    "    \n",
    "    return {\n",
    "        'director':nombre_director, \n",
    "        'retorno_total_director':retorno_total_director, \n",
    "        'peliculas':peliculas, \n",
    "        'anio':anio_peliculas, \n",
    "        'retorno_pelicula':retorno_pelicula, \n",
    "        'budget_pelicula':budget_pelicula, \n",
    "        'revenue_pelicula':revenue_pelicula}\n",
    "        "
   ]
  },
  {
   "attachments": {},
   "cell_type": "markdown",
   "metadata": {},
   "source": [
    "- prueba"
   ]
  },
  {
   "cell_type": "code",
   "execution_count": 61,
   "metadata": {},
   "outputs": [
    {
     "data": {
      "text/plain": [
       "{'director': 'Joe Johnston',\n",
       " 'retorno_total_director': 1531004802,\n",
       " 'peliculas': ['Jumanji',\n",
       "  'The Pagemaster',\n",
       "  'Honey, I Shrunk the Kids',\n",
       "  'The Rocketeer',\n",
       "  'Willow',\n",
       "  'October Sky',\n",
       "  'Jurassic Park III',\n",
       "  'Hidalgo',\n",
       "  'Batteries not Included',\n",
       "  'The Ewok Adventure',\n",
       "  'The Wolfman',\n",
       "  'Captain America: The First Avenger',\n",
       "  'Not Safe for Work'],\n",
       " 'anio': ['1995-12-15',\n",
       "  '1994-11-23',\n",
       "  '1989-06-22',\n",
       "  '1991-06-21',\n",
       "  '1988-05-01',\n",
       "  '1999-02-19',\n",
       "  '2001-07-18',\n",
       "  '2004-03-05',\n",
       "  '1987-12-18',\n",
       "  '1985-02-13',\n",
       "  '2010-02-11',\n",
       "  '2011-07-22',\n",
       "  '2014-05-09'],\n",
       " 'retorno_pelicula': [4.0430346,\n",
       "  0.5063217777777778,\n",
       "  6.960130375,\n",
       "  1.4761904761904763,\n",
       "  1.6362818,\n",
       "  0.0,\n",
       "  3.9653850430107527,\n",
       "  1.0810345,\n",
       "  0.0,\n",
       "  0.0,\n",
       "  0.0,\n",
       "  2.646926957142857,\n",
       "  0.0],\n",
       " 'budget_pelicula': [65000000,\n",
       "  27000000,\n",
       "  32000000,\n",
       "  42000000,\n",
       "  35000000,\n",
       "  0,\n",
       "  93000000,\n",
       "  100000000,\n",
       "  0,\n",
       "  3000000,\n",
       "  150000000,\n",
       "  140000000,\n",
       "  0],\n",
       " 'revenue_pelicula': [262797249,\n",
       "  13670688,\n",
       "  222724172,\n",
       "  62000000,\n",
       "  57269863,\n",
       "  0,\n",
       "  368780809,\n",
       "  108103450,\n",
       "  65088797,\n",
       "  0,\n",
       "  0,\n",
       "  370569774,\n",
       "  0]}"
      ]
     },
     "execution_count": 61,
     "metadata": {},
     "output_type": "execute_result"
    }
   ],
   "source": [
    "get_director('Joe Johnston')"
   ]
  },
  {
   "attachments": {},
   "cell_type": "markdown",
   "metadata": {},
   "source": [
    "\n",
    "# ML\n",
    "@app.get('/recomendacion/{titulo}')\n",
    "def recomendacion(titulo:str):\n",
    "    '''Ingresas un nombre de pelicula y te recomienda las similares en una lista'''\n",
    "    return {'lista recomendada': respuesta}"
   ]
  }
 ],
 "metadata": {
  "kernelspec": {
   "display_name": "Python 3",
   "language": "python",
   "name": "python3"
  },
  "language_info": {
   "codemirror_mode": {
    "name": "ipython",
    "version": 3
   },
   "file_extension": ".py",
   "mimetype": "text/x-python",
   "name": "python",
   "nbconvert_exporter": "python",
   "pygments_lexer": "ipython3",
   "version": "3.9.6"
  },
  "orig_nbformat": 4
 },
 "nbformat": 4,
 "nbformat_minor": 2
}
