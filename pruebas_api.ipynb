{
 "cells": [
  {
   "cell_type": "code",
   "execution_count": 317,
   "metadata": {},
   "outputs": [],
   "source": [
    "import pandas as pd\n",
    "import ast\n",
    "import re\n",
    "df_movies = pd.read_parquet('datasets/clean_movies_dataset.parquet')\n",
    "df_credits = pd.read_parquet('datasets/credits.parquet')"
   ]
  },
  {
   "cell_type": "code",
   "execution_count": 318,
   "metadata": {},
   "outputs": [
    {
     "data": {
      "text/plain": [
       "0        <class 'str'>\n",
       "1        <class 'str'>\n",
       "2        <class 'str'>\n",
       "3        <class 'str'>\n",
       "4        <class 'str'>\n",
       "             ...      \n",
       "45471    <class 'str'>\n",
       "45472    <class 'str'>\n",
       "45473    <class 'str'>\n",
       "45474    <class 'str'>\n",
       "45475    <class 'str'>\n",
       "Name: cast, Length: 45476, dtype: object"
      ]
     },
     "execution_count": 318,
     "metadata": {},
     "output_type": "execute_result"
    }
   ],
   "source": [
    "df_credits.cast.apply(lambda x : type(x))"
   ]
  },
  {
   "cell_type": "code",
   "execution_count": 319,
   "metadata": {},
   "outputs": [
    {
     "data": {
      "text/plain": [
       "Index(['belongs_to_collection', 'budget', 'genres', 'id', 'original_language',\n",
       "       'overview', 'popularity', 'production_companies',\n",
       "       'production_countries', 'release_date', 'revenue', 'runtime',\n",
       "       'spoken_languages', 'status', 'tagline', 'title', 'vote_average',\n",
       "       'vote_count', 'release_year', 'return'],\n",
       "      dtype='object')"
      ]
     },
     "execution_count": 319,
     "metadata": {},
     "output_type": "execute_result"
    }
   ],
   "source": [
    "df_movies.columns"
   ]
  },
  {
   "attachments": {},
   "cell_type": "markdown",
   "metadata": {},
   "source": [
    "### def cantidad_filmaciones_mes( Mes ): Se ingresa un mes en idioma Español. Debe devolver la cantidad de películas que fueron estrenadas en el mes consultado en la totalidad del dataset.\n",
    "                    Ejemplo de retorno: X cantidad de películas fueron estrenadas en el mes de X"
   ]
  },
  {
   "cell_type": "code",
   "execution_count": 320,
   "metadata": {},
   "outputs": [],
   "source": [
    "def cantidad_filmaciones_mes(mes: str):\n",
    "    mes = mes.lower()\n",
    "    df_movies.release_date = pd.to_datetime(df_movies.release_date)\n",
    "    def mes_a_numero (mes):\n",
    "        meses = {\n",
    "            'enero':1,'febrero':2,'marzo':3,'abril':4,\n",
    "            'mayo':5,'junio':6,'julio':7,'agosto':8,\n",
    "            'septiembre':9,'octubre':10,'noviembre':11,'diciembre':12\n",
    "            }\n",
    "        return meses[mes]\n",
    "    cantidad = df_movies.release_date.loc[df_movies.release_date.dt.month == mes_a_numero(mes)].count()\n",
    "    return f'{cantidad.item()} cantidad de películas fueron estrenadas en el mes de {mes}'"
   ]
  },
  {
   "attachments": {},
   "cell_type": "markdown",
   "metadata": {},
   "source": [
    "- prueba"
   ]
  },
  {
   "cell_type": "code",
   "execution_count": 321,
   "metadata": {},
   "outputs": [
    {
     "data": {
      "text/plain": [
       "'3032 cantidad de películas fueron estrenadas en el mes de febrero'"
      ]
     },
     "execution_count": 321,
     "metadata": {},
     "output_type": "execute_result"
    }
   ],
   "source": [
    "cantidad_filmaciones_mes('febrero')"
   ]
  },
  {
   "attachments": {},
   "cell_type": "markdown",
   "metadata": {},
   "source": [
    "### def cantidad_filmaciones_dia( Dia ): Se ingresa un día en idioma Español. Debe devolver la cantidad de películas que fueron estrenadas en día consultado en la totalidad del dataset.\n",
    "                    Ejemplo de retorno: X cantidad de películas fueron estrenadas en los días X"
   ]
  },
  {
   "cell_type": "code",
   "execution_count": 322,
   "metadata": {},
   "outputs": [],
   "source": [
    "def cantidad_filmaciones_dia(dia : str):\n",
    "    dia = dia.lower()\n",
    "    df_movies.release_date = pd.to_datetime(df_movies.release_date, errors= 'coerce')\n",
    "    def dia_numero(dia_numero):\n",
    "        dias = {'lunes' : 0,'martes' : 1, 'miercoles': 2, 'jueves':3, 'viernes':4, 'sabado':5, 'domingo':6}\n",
    "        return dias[dia_numero]\n",
    "    cantidad = df_movies.release_date.loc[df_movies.release_date.dt.weekday == dia_numero(dia)].count()\n",
    "    return {'dia' : dia , 'cantidad' : cantidad.item()}"
   ]
  },
  {
   "attachments": {},
   "cell_type": "markdown",
   "metadata": {},
   "source": [
    "- prueba"
   ]
  },
  {
   "cell_type": "code",
   "execution_count": 323,
   "metadata": {},
   "outputs": [
    {
     "data": {
      "text/plain": [
       "{'dia': 'lunes', 'cantidad': 3503}"
      ]
     },
     "execution_count": 323,
     "metadata": {},
     "output_type": "execute_result"
    }
   ],
   "source": [
    "cantidad_filmaciones_dia('lunes')"
   ]
  },
  {
   "attachments": {},
   "cell_type": "markdown",
   "metadata": {},
   "source": [
    "### def score_titulo( titulo_de_la_filmación ): Se ingresa el título de una filmación esperando como respuesta el título, el año de estreno y el score.\n",
    "                    Ejemplo de retorno: La película X fue estrenada en el año X con un score/popularidad de"
   ]
  },
  {
   "cell_type": "code",
   "execution_count": 324,
   "metadata": {},
   "outputs": [],
   "source": [
    "def score_titulo(titulo_de_la_filmacion: str):\n",
    "    titulo_de_la_filmacion = titulo_de_la_filmacion.lower()\n",
    "    respuesta = df_movies[['title','release_year','popularity']].loc[df_movies.title.apply(lambda x : x.lower()) == titulo_de_la_filmacion]\n",
    "    titulo = respuesta['title'].values[0]\n",
    "    anio = respuesta['release_year'].values[0]\n",
    "    popularidad = respuesta['popularity'].values[0]\n",
    "    return f\"la pelicula {str(titulo)} fue estrenada en el año {str(anio)} con un score/popularidad de {str(popularidad)}\""
   ]
  },
  {
   "attachments": {},
   "cell_type": "markdown",
   "metadata": {},
   "source": [
    "- prueba"
   ]
  },
  {
   "cell_type": "code",
   "execution_count": 325,
   "metadata": {},
   "outputs": [
    {
     "data": {
      "text/plain": [
       "'la pelicula Toy Story fue estrenada en el año 1995 con un score/popularidad de 21.946943'"
      ]
     },
     "execution_count": 325,
     "metadata": {},
     "output_type": "execute_result"
    }
   ],
   "source": [
    "score_titulo('Toy Story')"
   ]
  },
  {
   "attachments": {},
   "cell_type": "markdown",
   "metadata": {},
   "source": [
    "### def votos_titulo( titulo_de_la_filmación ): Se ingresa el título de una filmación esperando como respuesta el título, la cantidad de votos y el valor promedio de las votaciones. La misma variable deberá de contar con al menos 2000 valoraciones, caso contrario, debemos contar con un mensaje avisando que no cumple esta condición y que por ende, no se devuelve ningun valor.\n",
    "                    Ejemplo de retorno: La película X fue estrenada en el año X. La misma cuenta con un total de X valoraciones, con un promedio de X"
   ]
  },
  {
   "cell_type": "code",
   "execution_count": 326,
   "metadata": {},
   "outputs": [],
   "source": [
    "def votos_titulo(titulo_de_la_filmacion: str):\n",
    "    titulo_de_la_filmacion = titulo_de_la_filmacion.lower()\n",
    "    respuesta = df_movies[['title','release_year','vote_count','vote_average']].loc[df_movies.title.apply(lambda x : x.lower()) == titulo_de_la_filmacion]\n",
    "    titulo = respuesta['title'].values[0]\n",
    "    anio = respuesta['release_year'].values[0]\n",
    "    cantidad_votos = respuesta['vote_count'].values[0]\n",
    "    promedio_votos = respuesta['vote_average'].values[0]\n",
    "    if respuesta['vote_count'].values[0] <2000:\n",
    "        return f'La variable ingresada no cumple con la condición necesaria de tener más de 2000 valoraciones'\n",
    "    else:\n",
    "        return f\"la pelicula {str(titulo)} fue estrenada en el año {str(anio)}. La misma cuenta con {str(cantidad_votos)} votos con un promedio de {str(promedio_votos)}\"\n"
   ]
  },
  {
   "attachments": {},
   "cell_type": "markdown",
   "metadata": {},
   "source": [
    "- prueba"
   ]
  },
  {
   "cell_type": "code",
   "execution_count": 327,
   "metadata": {},
   "outputs": [
    {
     "data": {
      "text/plain": [
       "'la pelicula Toy Story fue estrenada en el año 1995. La misma cuenta con 5415 votos con un promedio de 7.7'"
      ]
     },
     "execution_count": 327,
     "metadata": {},
     "output_type": "execute_result"
    }
   ],
   "source": [
    "votos_titulo('Toy Story')"
   ]
  },
  {
   "attachments": {},
   "cell_type": "markdown",
   "metadata": {},
   "source": [
    "### def get_actor( nombre_actor ): Se ingresa el nombre de un actor que se encuentre dentro de un dataset debiendo devolver el éxito del mismo medido a través del retorno. Además, la cantidad de películas que en las que ha participado y el promedio de retorno. La definición no deberá considerar directores.\n",
    "                    Ejemplo de retorno: El actor X ha participado de X cantidad de filmaciones, el mismo ha conseguido un retorno de X con un promedio de X por filmación"
   ]
  },
  {
   "cell_type": "code",
   "execution_count": 328,
   "metadata": {},
   "outputs": [],
   "source": [
    "def get_actor(nombre_actor: str):\n",
    "    resultado = df_credits[df_credits['cast'].apply(lambda x : nombre_actor.lower().rstrip() in x.lower())]\n",
    "    cantidad_proyectos = resultado.shape[0]\n",
    "    lista_proyectos = resultado.id.tolist()\n",
    "    proyectos = df_movies[df_movies['id'].isin(lista_proyectos)]\n",
    "    retorno = sum(proyectos.revenue.tolist())\n",
    "    promedio = round(retorno/cantidad_proyectos)\n",
    "    return f'El actor {nombre_actor} ha participado de {cantidad_proyectos} filmaciones, el mismo ha conseguido un retorno de {retorno} con un promedio de {promedio} por filmacion'"
   ]
  },
  {
   "attachments": {},
   "cell_type": "markdown",
   "metadata": {},
   "source": [
    "- prueba"
   ]
  },
  {
   "cell_type": "code",
   "execution_count": 329,
   "metadata": {},
   "outputs": [
    {
     "data": {
      "text/plain": [
       "'El actor Robin Williams ha participado de 83 filmaciones, el mismo ha conseguido un retorno de 6356609847 con un promedio de 76585661 por filmacion'"
      ]
     },
     "execution_count": 329,
     "metadata": {},
     "output_type": "execute_result"
    }
   ],
   "source": [
    "get_actor('Robin Williams')"
   ]
  },
  {
   "attachments": {},
   "cell_type": "markdown",
   "metadata": {},
   "source": [
    "### def get_director( nombre_director ): Se ingresa el nombre de un director que se encuentre dentro de un dataset debiendo devolver el éxito del mismo medido a través del retorno. Además, deberá devolver el nombre de cada película con la fecha de lanzamiento, retorno individual, costo y ganancia de la misma."
   ]
  },
  {
   "cell_type": "code",
   "execution_count": 344,
   "metadata": {},
   "outputs": [
    {
     "data": {
      "text/plain": [
       "Index(['belongs_to_collection', 'budget', 'genres', 'id', 'original_language',\n",
       "       'overview', 'popularity', 'production_companies',\n",
       "       'production_countries', 'release_date', 'revenue', 'runtime',\n",
       "       'spoken_languages', 'status', 'tagline', 'title', 'vote_average',\n",
       "       'vote_count', 'release_year', 'return'],\n",
       "      dtype='object')"
      ]
     },
     "execution_count": 344,
     "metadata": {},
     "output_type": "execute_result"
    }
   ],
   "source": [
    "df_movies.columns"
   ]
  },
  {
   "cell_type": "code",
   "execution_count": 363,
   "metadata": {},
   "outputs": [],
   "source": [
    "def get_director(nombre_director: str):\n",
    "    condicion1 = df_credits['crew'].str.contains(r'\\b{}\\b'.format(nombre_director.title()), regex=True)\n",
    "    condicion2 = df_credits['crew'].str.contains(r'\\b{}\\b'.format('Director'), regex=True)\n",
    "    resultado = df_credits[condicion1 & condicion2]\n",
    "    lista_proyectos = resultado.id.tolist()\n",
    "    proyectos = df_movies[df_movies['id'].isin(lista_proyectos)]\n",
    "    retorno = sum(proyectos.revenue.tolist())\n",
    "    peliculas = \"\"\n",
    "    print(proyectos)\n",
    "        #peliculas = f\"{peliculas}{proyectos['title'].values[0]} - {proyectos['release_date'].values[0]} /n\"\n",
    "        \n",
    "    return f'El director {nombre_director} ha conseguido un retorno de {retorno}, sus trabajos son: /n {peliculas}'\n",
    "    "
   ]
  },
  {
   "attachments": {},
   "cell_type": "markdown",
   "metadata": {},
   "source": [
    "- prueba"
   ]
  },
  {
   "cell_type": "code",
   "execution_count": 364,
   "metadata": {},
   "outputs": [
    {
     "name": "stdout",
     "output_type": "stream",
     "text": [
      "                                   belongs_to_collection     budget   \n",
      "1                                                   None   65000000  \\\n",
      "552                                                 None   27000000   \n",
      "1945   {'id': 72119, 'name': 'Honey, I Shrunk the Kid...   32000000   \n",
      "1985                                                None   42000000   \n",
      "2084                                                None   35000000   \n",
      "2388                                                None          0   \n",
      "4509   {'id': 328, 'name': 'Jurassic Park Collection'...   93000000   \n",
      "7171                                                None  100000000   \n",
      "7640                                                None          0   \n",
      "8848   {'id': 133830, 'name': 'Star Wars: The Ewok Ad...    3000000   \n",
      "14823                                               None  150000000   \n",
      "17444  {'id': 131295, 'name': 'Captain America Collec...  140000000   \n",
      "28062                                               None          0   \n",
      "\n",
      "                                                  genres      id   \n",
      "1      [{'id': 12, 'name': 'Adventure'}, {'id': 14, '...    8844  \\\n",
      "552    [{'id': 14, 'name': 'Fantasy'}, {'id': 878, 'n...   15139   \n",
      "1945   [{'id': 12, 'name': 'Adventure'}, {'id': 35, '...    9354   \n",
      "1985   [{'id': 28, 'name': 'Action'}, {'id': 12, 'nam...   10249   \n",
      "2084   [{'id': 12, 'name': 'Adventure'}, {'id': 18, '...     847   \n",
      "2388   [{'id': 18, 'name': 'Drama'}, {'id': 10751, 'n...   13466   \n",
      "4509   [{'id': 12, 'name': 'Adventure'}, {'id': 28, '...     331   \n",
      "7171   [{'id': 37, 'name': 'Western'}, {'id': 12, 'na...    2023   \n",
      "7640   [{'id': 35, 'name': 'Comedy'}, {'id': 10751, '...   11548   \n",
      "8848   [{'id': 12, 'name': 'Adventure'}, {'id': 10751...    1884   \n",
      "14823  [{'id': 18, 'name': 'Drama'}, {'id': 27, 'name...    7978   \n",
      "17444  [{'id': 28, 'name': 'Action'}, {'id': 12, 'nam...    1771   \n",
      "28062                   [{'id': 53, 'name': 'Thriller'}]  256347   \n",
      "\n",
      "      original_language                                           overview   \n",
      "1                    en  When siblings Judy and Peter discover an encha...  \\\n",
      "552                  en  Tyler knows a lot about accidents. So much so,...   \n",
      "1945                 en  The scientist father of a teenage girl and boy...   \n",
      "1985                 en  Straight from the pages of a pulp comic from a...   \n",
      "2084                 en  Fearful of a prophecy stating that a girl chil...   \n",
      "2388                 en  Based on the true story of Homer Hickam, a coa...   \n",
      "4509                 en  In need of funds for research, Dr. Alan Grant ...   \n",
      "7171                 en  Set in 1890, this is the story of a Pony Expre...   \n",
      "7640                 en  In a soon to be demolished block of apartments...   \n",
      "8848                 en  The Towani family civilian shuttlecraft crashe...   \n",
      "14823                en  Lawrence Talbot, an American man on a visit to...   \n",
      "17444                en  Predominantly set during World War II, Steve R...   \n",
      "28062                en  An office worker is trapped inside the buildin...   \n",
      "\n",
      "       popularity                               production_companies   \n",
      "1       17.015539  [{'name': 'TriStar Pictures', 'id': 559}, {'na...  \\\n",
      "552      7.436001  [{'name': 'Twentieth Century Fox Film Corporat...   \n",
      "1945    12.358786                [{'name': 'Buena Vista', 'id': 32}]   \n",
      "1985    10.536644        [{'name': 'Walt Disney Pictures', 'id': 2}]   \n",
      "2084     9.918312  [{'name': 'Lucasfilm', 'id': 1}, {'name': 'Met...   \n",
      "2388     6.652528         [{'name': 'Universal Pictures', 'id': 33}]   \n",
      "4509     0.648867  [{'name': 'Universal Studios', 'id': 13}, {'na...   \n",
      "7171     8.140709  [{'name': 'Casey Silver Productions', 'id': 87...   \n",
      "7640    11.492174  [{'name': 'Universal Pictures', 'id': 33}, {'n...   \n",
      "8848     5.056089  [{'name': 'Lucasfilm', 'id': 1}, {'name': 'Kor...   \n",
      "14823    9.297209  [{'name': 'Universal Pictures', 'id': 33}, {'n...   \n",
      "17444   19.323582  [{'name': 'Paramount Pictures', 'id': 4}, {'na...   \n",
      "28062    2.283110    [{'name': 'Blumhouse Productions', 'id': 3172}]   \n",
      "\n",
      "                                    production_countries release_date   \n",
      "1      [{'iso_3166_1': 'US', 'name': 'United States o...   1995-12-15  \\\n",
      "552    [{'iso_3166_1': 'US', 'name': 'United States o...   1994-11-23   \n",
      "1945   [{'iso_3166_1': 'US', 'name': 'United States o...   1989-06-22   \n",
      "1985   [{'iso_3166_1': 'US', 'name': 'United States o...   1991-06-21   \n",
      "2084   [{'iso_3166_1': 'US', 'name': 'United States o...   1988-05-01   \n",
      "2388   [{'iso_3166_1': 'US', 'name': 'United States o...   1999-02-19   \n",
      "4509   [{'iso_3166_1': 'US', 'name': 'United States o...   2001-07-18   \n",
      "7171   [{'iso_3166_1': 'US', 'name': 'United States o...   2004-03-05   \n",
      "7640   [{'iso_3166_1': 'US', 'name': 'United States o...   1987-12-18   \n",
      "8848   [{'iso_3166_1': 'US', 'name': 'United States o...   1985-02-13   \n",
      "14823  [{'iso_3166_1': 'US', 'name': 'United States o...   2010-02-11   \n",
      "17444  [{'iso_3166_1': 'US', 'name': 'United States o...   2011-07-22   \n",
      "28062  [{'iso_3166_1': 'US', 'name': 'United States o...   2014-05-09   \n",
      "\n",
      "         revenue  runtime                                   spoken_languages   \n",
      "1      262797249    104.0  [{'iso_639_1': 'en', 'name': 'English'}, {'iso...  \\\n",
      "552     13670688     80.0  [{'iso_639_1': 'da', 'name': 'Dansk'}, {'iso_6...   \n",
      "1945   222724172     93.0           [{'iso_639_1': 'en', 'name': 'English'}]   \n",
      "1985    62000000    108.0           [{'iso_639_1': 'en', 'name': 'English'}]   \n",
      "2084    57269863    126.0           [{'iso_639_1': 'en', 'name': 'English'}]   \n",
      "2388           0    108.0           [{'iso_639_1': 'en', 'name': 'English'}]   \n",
      "4509   368780809     92.0  [{'iso_639_1': 'en', 'name': 'English'}, {'iso...   \n",
      "7171   108103450    136.0           [{'iso_639_1': 'en', 'name': 'English'}]   \n",
      "7640    65088797    106.0           [{'iso_639_1': 'en', 'name': 'English'}]   \n",
      "8848           0     96.0           [{'iso_639_1': 'en', 'name': 'English'}]   \n",
      "14823          0    102.0           [{'iso_639_1': 'en', 'name': 'English'}]   \n",
      "17444  370569774    124.0  [{'iso_639_1': 'fr', 'name': 'Français'}, {'is...   \n",
      "28062          0     74.0           [{'iso_639_1': 'en', 'name': 'English'}]   \n",
      "\n",
      "         status                                            tagline   \n",
      "1      Released          Roll the dice and unleash the excitement!  \\\n",
      "552    Released       All The Adventure Your Imagination Can Hold.   \n",
      "1945   Released  The most astonishing, innovative, backyard adv...   \n",
      "1985   Released  Three years before the United States declares ...   \n",
      "2084   Released       Adventure doesn't come any bigger than this.   \n",
      "2388   Released  Sometimes one dream is enough to light up the ...   \n",
      "4509   Released       This time, it's not just a walk in the park!   \n",
      "7171   Released                     Unbridled. Unbroken. Unbeaten.   \n",
      "7640   Released  Five ordinary people needed a miracle. Then on...   \n",
      "8848   Released  You'll live the adventure... You'll love it's ...   \n",
      "14823  Released     When the moon is full the legend comes to life   \n",
      "17444  Released                        When patriots become heroes   \n",
      "28062  Released                  No Protection, No Help, No Escape   \n",
      "\n",
      "                                    title  vote_average  vote_count   \n",
      "1                                 Jumanji           6.9        2413  \\\n",
      "552                        The Pagemaster           6.2         178   \n",
      "1945             Honey, I Shrunk the Kids           6.1         756   \n",
      "1985                        The Rocketeer           6.3         265   \n",
      "2084                               Willow           6.9         484   \n",
      "2388                          October Sky           7.4         259   \n",
      "4509                    Jurassic Park III           5.7        2109   \n",
      "7171                              Hidalgo           6.5         321   \n",
      "7640               Batteries not Included           6.3         222   \n",
      "8848                   The Ewok Adventure           5.9          46   \n",
      "14823                         The Wolfman           5.5         562   \n",
      "17444  Captain America: The First Avenger           6.6        7174   \n",
      "28062                   Not Safe for Work           4.8          44   \n",
      "\n",
      "       release_year    return  \n",
      "1              1995  4.043035  \n",
      "552            1994  0.506322  \n",
      "1945           1989  6.960130  \n",
      "1985           1991  1.476190  \n",
      "2084           1988  1.636282  \n",
      "2388           1999  0.000000  \n",
      "4509           2001  3.965385  \n",
      "7171           2004  1.081034  \n",
      "7640           1987  0.000000  \n",
      "8848           1985  0.000000  \n",
      "14823          2010  0.000000  \n",
      "17444          2011  2.646927  \n",
      "28062          2014  0.000000  \n"
     ]
    },
    {
     "data": {
      "text/plain": [
       "'El director Joe Johnston ha conseguido un retorno de 1531004802, sus trabajos son: /n '"
      ]
     },
     "execution_count": 364,
     "metadata": {},
     "output_type": "execute_result"
    }
   ],
   "source": [
    "get_director('Joe Johnston')"
   ]
  }
 ],
 "metadata": {
  "kernelspec": {
   "display_name": "Python 3",
   "language": "python",
   "name": "python3"
  },
  "language_info": {
   "codemirror_mode": {
    "name": "ipython",
    "version": 3
   },
   "file_extension": ".py",
   "mimetype": "text/x-python",
   "name": "python",
   "nbconvert_exporter": "python",
   "pygments_lexer": "ipython3",
   "version": "3.9.6"
  },
  "orig_nbformat": 4
 },
 "nbformat": 4,
 "nbformat_minor": 2
}
