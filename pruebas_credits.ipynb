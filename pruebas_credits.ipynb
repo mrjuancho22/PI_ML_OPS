{
 "cells": [
  {
   "cell_type": "code",
   "execution_count": 264,
   "metadata": {},
   "outputs": [],
   "source": [
    "import pandas as pd\n",
    "import ast\n",
    "import pyarrow as pa\n",
    "import pyarrow.parquet as pq"
   ]
  },
  {
   "cell_type": "code",
   "execution_count": 265,
   "metadata": {},
   "outputs": [],
   "source": [
    "df = pd.read_csv('datasets/credits.csv')\n",
    "table = pa.Table.from_pandas(df)\n",
    "pq.write_table(table, 'credits.parquet')"
   ]
  },
  {
   "attachments": {},
   "cell_type": "markdown",
   "metadata": {},
   "source": [
    "codigo de prueba"
   ]
  },
  {
   "attachments": {},
   "cell_type": "markdown",
   "metadata": {},
   "source": [
    "Voy a crear un dataframe vacio, donde, almacenaré posterior mente la cantidad de apariciones de las personas, nombres y rol"
   ]
  },
  {
   "cell_type": "code",
   "execution_count": 266,
   "metadata": {},
   "outputs": [
    {
     "data": {
      "text/html": [
       "<div>\n",
       "<style scoped>\n",
       "    .dataframe tbody tr th:only-of-type {\n",
       "        vertical-align: middle;\n",
       "    }\n",
       "\n",
       "    .dataframe tbody tr th {\n",
       "        vertical-align: top;\n",
       "    }\n",
       "\n",
       "    .dataframe thead th {\n",
       "        text-align: right;\n",
       "    }\n",
       "</style>\n",
       "<table border=\"1\" class=\"dataframe\">\n",
       "  <thead>\n",
       "    <tr style=\"text-align: right;\">\n",
       "      <th></th>\n",
       "      <th>nombre</th>\n",
       "      <th>rol</th>\n",
       "      <th>cantidad_de_apariciones</th>\n",
       "      <th>proyectos_relacionados</th>\n",
       "    </tr>\n",
       "  </thead>\n",
       "  <tbody>\n",
       "  </tbody>\n",
       "</table>\n",
       "</div>"
      ],
      "text/plain": [
       "Empty DataFrame\n",
       "Columns: [nombre, rol, cantidad_de_apariciones, proyectos_relacionados]\n",
       "Index: []"
      ]
     },
     "execution_count": 266,
     "metadata": {},
     "output_type": "execute_result"
    }
   ],
   "source": [
    "columnas = ['nombre', 'rol', 'cantidad_de_apariciones','proyectos_relacionados']\n",
    "df_conteo = pd.DataFrame(columns = columnas)\n",
    "df_conteo"
   ]
  },
  {
   "attachments": {},
   "cell_type": "markdown",
   "metadata": {},
   "source": [
    "Vamos a intentar abrirnos paso en la cochinada del df original"
   ]
  },
  {
   "cell_type": "code",
   "execution_count": 267,
   "metadata": {},
   "outputs": [],
   "source": [
    "df['cast'] = df['cast'].apply(lambda x: ast.literal_eval(x) if (type(x) == str and x!='[]')else \n",
    "[{'cast_id': '',\n",
    "  'character': '',\n",
    "  'credit_id': '',\n",
    "  'gender': '',\n",
    "  'id': '',\n",
    "  'name': '',\n",
    "  'order': '',\n",
    "  'profile_path':''}])"
   ]
  },
  {
   "cell_type": "code",
   "execution_count": 268,
   "metadata": {},
   "outputs": [],
   "source": [
    "df['crew'] = df['crew'].apply(lambda x: ast.literal_eval(x) if type(x) == str else \n",
    "[{'credit_id': '',\n",
    "  'department': '',\n",
    "  'gender': '',\n",
    "  'id': '',\n",
    "  'job': '',\n",
    "  'name': '',\n",
    "  'profile_path': ''}])"
   ]
  },
  {
   "cell_type": "code",
   "execution_count": 269,
   "metadata": {},
   "outputs": [
    {
     "data": {
      "text/plain": [
       "0        <class 'list'>\n",
       "1        <class 'list'>\n",
       "2        <class 'list'>\n",
       "3        <class 'list'>\n",
       "4        <class 'list'>\n",
       "              ...      \n",
       "45471    <class 'list'>\n",
       "45472    <class 'list'>\n",
       "45473    <class 'list'>\n",
       "45474    <class 'list'>\n",
       "45475    <class 'list'>\n",
       "Name: cast, Length: 45476, dtype: object"
      ]
     },
     "execution_count": 269,
     "metadata": {},
     "output_type": "execute_result"
    }
   ],
   "source": [
    "df.cast.apply(lambda x : type(x))"
   ]
  },
  {
   "cell_type": "code",
   "execution_count": 270,
   "metadata": {},
   "outputs": [],
   "source": [
    "def contar_actores():\n",
    "    for fila in df.cast[1:400]:    \n",
    "        for diccionario in fila:\n",
    "                        if not df_conteo.nombre.isin([diccionario['name']]).any():\n",
    "                            nombre_actor = diccionario['name']\n",
    "                            resultado = df[df.cast.apply(lambda lista : any(diccionarios['name'] == nombre_actor for diccionarios in lista ))]\n",
    "                            cantidad_de_apariciones = resultado.shape[0]\n",
    "                            proyectos_relacionados =  resultado.id.tolist()\n",
    "                            nueva_fila = {\n",
    "                                'nombre': nombre_actor,\n",
    "                                'rol': 'actor',\n",
    "                                'cantidad_de_apariciones' : cantidad_de_apariciones,\n",
    "                                'proyectos_relacionados' : proyectos_relacionados\n",
    "                            }\n",
    "                        df_conteo.loc[len(df_conteo)] = nueva_fila"
   ]
  }
 ],
 "metadata": {
  "kernelspec": {
   "display_name": "Python 3",
   "language": "python",
   "name": "python3"
  },
  "language_info": {
   "codemirror_mode": {
    "name": "ipython",
    "version": 3
   },
   "file_extension": ".py",
   "mimetype": "text/x-python",
   "name": "python",
   "nbconvert_exporter": "python",
   "pygments_lexer": "ipython3",
   "version": "3.9.6"
  },
  "orig_nbformat": 4
 },
 "nbformat": 4,
 "nbformat_minor": 2
}
